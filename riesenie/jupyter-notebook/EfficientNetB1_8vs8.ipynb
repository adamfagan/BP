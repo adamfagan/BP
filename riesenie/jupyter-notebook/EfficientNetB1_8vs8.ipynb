{
  "cells": [
    {
      "cell_type": "markdown",
      "source": [
        "### Importovanie knižníc a nástrojov"
      ],
      "metadata": {
        "id": "lUrD4xHYWqnJ"
      }
    },
    {
      "cell_type": "code",
      "execution_count": null,
      "metadata": {
        "id": "dQWeol_Jh5af"
      },
      "outputs": [],
      "source": [
        "import matplotlib.pyplot as plt\n",
        "import pathlib\n",
        "import numpy as np\n",
        "\n",
        "import tensorflow as tf\n",
        "from tensorflow.keras.layers import Dense, Flatten\n",
        "from tensorflow.keras.models import Model\n",
        "from tensorflow.keras.applications import EfficientNetB1\n",
        "from tensorflow.keras.callbacks import EarlyStopping\n",
        "from tensorflow.keras.callbacks import TensorBoard\n",
        "from tensorflow.keras.preprocessing.image import ImageDataGenerator\n",
        "\n",
        "from sklearn.metrics import confusion_matrix, ConfusionMatrixDisplay, classification_report"
      ]
    },
    {
      "cell_type": "markdown",
      "source": [
        "### Zadefinovanie ciest k datasetom"
      ],
      "metadata": {
        "id": "gIIIo21MUL1y"
      }
    },
    {
      "cell_type": "code",
      "source": [
        "TRAIN_DATA_DIR = './train_8vs8'\n",
        "VALIDATION_DATA_DIR = './validation_8vs8'\n",
        "TEST_DATA_DIR = './test_8vs8'\n",
        "\n",
        "TRAIN_DATASET_PATH = pathlib.Path(TRAIN_DATA_DIR)\n",
        "VALIDATION_DATASET_PATH = pathlib.Path(VALIDATION_DATA_DIR)\n",
        "TEST_DATASET_PATH = pathlib.Path(TEST_DATA_DIR)"
      ],
      "metadata": {
        "id": "AOPXAyfP7VDh"
      },
      "execution_count": null,
      "outputs": []
    },
    {
      "cell_type": "markdown",
      "source": [
        "### Vytvorenie ImageDataGenerator-ov, ktoré slúžia pre načítanie, predspracovanie a augmentáciu obrázkov"
      ],
      "metadata": {
        "id": "55KhKFRRZfMf"
      }
    },
    {
      "cell_type": "code",
      "source": [
        "train_datagen = ImageDataGenerator(\n",
        "    rotation_range = 40,\n",
        "    width_shift_range = 0.2,\n",
        "    height_shift_range = 0.2,\n",
        "    shear_range = 0.2,\n",
        "    zoom_range = 0.2,\n",
        "    horizontal_flip = True)\n",
        "\n",
        "test_validation_datagen = ImageDataGenerator()"
      ],
      "metadata": {
        "id": "mukgllNXZu0X"
      },
      "execution_count": null,
      "outputs": []
    },
    {
      "cell_type": "markdown",
      "source": [
        "### Vytvorenie datasetov pomocou flow_from_directory funkcie ImageDataGenerator-a"
      ],
      "metadata": {
        "id": "zR6JLph2Wdqr"
      }
    },
    {
      "cell_type": "code",
      "source": [
        "BATCH_SIZE = 64\n",
        "IMG_SIZE = (240, 240)\n",
        "\n",
        "train_dataset = train_datagen.flow_from_directory(\n",
        "    TRAIN_DATASET_PATH, \n",
        "    target_size=IMG_SIZE, \n",
        "    class_mode='categorical', \n",
        "    batch_size=BATCH_SIZE, \n",
        "    shuffle=True\n",
        ")\n",
        "\n",
        "validation_dataset = test_validation_datagen.flow_from_directory(\n",
        "    VALIDATION_DATASET_PATH, \n",
        "    target_size=IMG_SIZE, \n",
        "    class_mode='categorical', \n",
        "    batch_size=BATCH_SIZE,\n",
        "    shuffle=True\n",
        ")\n",
        "\n",
        "test_dataset = test_validation_datagen.flow_from_directory(\n",
        "      TEST_DATASET_PATH, \n",
        "      target_size=IMG_SIZE, \n",
        "      class_mode='categorical', \n",
        "      batch_size=BATCH_SIZE, \n",
        "      shuffle=False\n",
        ")"
      ],
      "metadata": {
        "id": "1aSjEGWt9Fjt"
      },
      "execution_count": null,
      "outputs": []
    },
    {
      "cell_type": "markdown",
      "source": [
        "### Vykreslenie 5 augmentovaných trenovacích obrázkov"
      ],
      "metadata": {
        "id": "MYSMPVZTb7wz"
      }
    },
    {
      "cell_type": "code",
      "source": [
        "plot_dataset = train_datagen.flow_from_directory(\n",
        "    TRAIN_DATASET_PATH, \n",
        "    target_size=IMG_SIZE, \n",
        "    class_mode='categorical', \n",
        "    batch_size=1,\n",
        "    shuffle=True\n",
        ")\n",
        "\n",
        "fig, ax = plt.subplots(nrows=1, ncols=5, figsize=(50,50))\n",
        "\n",
        "for i in range(5):\n",
        "  image = next(plot_dataset)[0].astype('uint8')\n",
        "  image = np.squeeze(image)\n",
        "\n",
        "  ax[i].imshow(image)\n",
        "  ax[i].axis('off')"
      ],
      "metadata": {
        "id": "4T27oiTSerIY"
      },
      "execution_count": null,
      "outputs": []
    },
    {
      "cell_type": "markdown",
      "source": [
        "### Model\n",
        "\n",
        "*   EfficientNetB1, ktorý je trénovaný pomocou transfer learningu\n",
        "*   Modelu boli odobraté posledné vrstvy pre klasifikovanie 1000 tried a bola mu pridaná Flatten vrstva a Dense vrstva so softmax aktivačnou funkciou pre klasifikovanie 16 tried húb\n",
        "\n"
      ],
      "metadata": {
        "id": "u-zOSu6TfRd2"
      }
    },
    {
      "cell_type": "code",
      "source": [
        "b1 = EfficientNetB1(input_shape=(240, 240, 3), weights='imagenet', include_top=False, classifier_activation=\"softmax\") "
      ],
      "metadata": {
        "id": "-bq7_ozEk8aK"
      },
      "execution_count": null,
      "outputs": []
    },
    {
      "cell_type": "code",
      "source": [
        "for layer in b1.layers:\n",
        "    layer.trainable = False"
      ],
      "metadata": {
        "id": "WaWo6Beyk8Y9"
      },
      "execution_count": null,
      "outputs": []
    },
    {
      "cell_type": "code",
      "source": [
        "x = Flatten()(b1.output)"
      ],
      "metadata": {
        "id": "pTQoisn6k8Ui"
      },
      "execution_count": null,
      "outputs": []
    },
    {
      "cell_type": "code",
      "source": [
        "prediction = Dense(16, activation='softmax')(x)\n",
        "model = Model(inputs=b1.input, outputs=prediction)"
      ],
      "metadata": {
        "id": "dHlYu4qXk8TJ"
      },
      "execution_count": null,
      "outputs": []
    },
    {
      "cell_type": "code",
      "source": [
        "model.compile(\n",
        "  loss='categorical_crossentropy',\n",
        "  optimizer=tf.keras.optimizers.Adam(0.0003),\n",
        "  metrics=['accuracy']\n",
        ")"
      ],
      "metadata": {
        "id": "PaI4L78hlmQD"
      },
      "execution_count": null,
      "outputs": []
    },
    {
      "cell_type": "code",
      "source": [
        "model.summary()"
      ],
      "metadata": {
        "id": "0L-K9lRBY2fR"
      },
      "execution_count": null,
      "outputs": []
    },
    {
      "cell_type": "markdown",
      "source": [
        "### Zadefinovanie predčasného zastavenia trénovania modelu pomocou EarlyStopping a monitorovania vývoju metrík pomocou TensorBoard"
      ],
      "metadata": {
        "id": "JwdXIvDtWvG_"
      }
    },
    {
      "cell_type": "code",
      "source": [
        "NAME = \"8-vs-8-CNN\"\n",
        "\n",
        "early_stop = EarlyStopping(monitor='val_loss',mode='min',verbose=1,patience=5)\n",
        "tensorboard = TensorBoard(log_dir=\"logs/{}\".format(NAME))"
      ],
      "metadata": {
        "id": "E4sxyKKQTrQ6"
      },
      "execution_count": null,
      "outputs": []
    },
    {
      "cell_type": "markdown",
      "source": [
        "### Trénovanie modelu"
      ],
      "metadata": {
        "id": "LxHoHdTvVbbY"
      }
    },
    {
      "cell_type": "code",
      "source": [
        "history = model.fit(\n",
        "  train_dataset,\n",
        "  validation_data=validation_dataset,\n",
        "  epochs=20,\n",
        "  callbacks=[early_stop, tensorboard],\n",
        "  batch_size=BATCH_SIZE)"
      ],
      "metadata": {
        "id": "omH2Wh7FlmOo"
      },
      "execution_count": null,
      "outputs": []
    },
    {
      "cell_type": "markdown",
      "source": [
        "### Vykreslenie grafov hodnôt presnosti a stratovej funkcie, ktoré mal model počas trénovania"
      ],
      "metadata": {
        "id": "rThi2x9whhRc"
      }
    },
    {
      "cell_type": "code",
      "source": [
        "plt.plot(history.history['accuracy'], label='train acc')\n",
        "plt.plot(history.history['val_accuracy'], label='val acc')\n",
        "plt.xlabel('Epoch')\n",
        "plt.ylabel('Accuracy')\n",
        "plt.legend()\n",
        "plt.show()"
      ],
      "metadata": {
        "id": "mqjgc0iolmKA"
      },
      "execution_count": null,
      "outputs": []
    },
    {
      "cell_type": "code",
      "source": [
        "plt.plot(history.history['loss'], label='train loss')\n",
        "plt.plot(history.history['val_loss'], label='val loss')\n",
        "plt.xlabel('Epoch')\n",
        "plt.ylabel('Loss')\n",
        "plt.legend()\n",
        "plt.show()"
      ],
      "metadata": {
        "id": "i3SLWOUpvB-I"
      },
      "execution_count": null,
      "outputs": []
    },
    {
      "cell_type": "markdown",
      "source": [
        "### Evaluácia vytrénovaného modelu"
      ],
      "metadata": {
        "id": "pnaqK8t1ha8Y"
      }
    },
    {
      "cell_type": "code",
      "source": [
        "test_loss, test_accuracy = model.evaluate(test_dataset,batch_size=BATCH_SIZE)"
      ],
      "metadata": {
        "id": "xOqzkN4rvQzQ"
      },
      "execution_count": null,
      "outputs": []
    },
    {
      "cell_type": "code",
      "source": [
        "print(\"Testovacia loss {0:.2f}, Testovacia accuracy {1:.2f}%\".format(test_loss, test_accuracy * 100))"
      ],
      "metadata": {
        "id": "vbLTdjTLNS9j"
      },
      "execution_count": null,
      "outputs": []
    },
    {
      "cell_type": "code",
      "source": [
        "Y_true_classes = test_dataset.classes\n",
        "Y_predict = model.predict(test_dataset)\n",
        "\n",
        "Y_pred_classes = np.argmax(Y_predict, axis=1)\n",
        "\n",
        "CONFUSION_MATRIX = confusion_matrix(Y_true_classes, Y_pred_classes)\n",
        "disp = ConfusionMatrixDisplay(confusion_matrix=CONFUSION_MATRIX)\n",
        "\n",
        "disp = disp.plot()"
      ],
      "metadata": {
        "id": "Sa6Vs8w8Nbry"
      },
      "execution_count": null,
      "outputs": []
    },
    {
      "cell_type": "code",
      "source": [
        "print(classification_report(Y_true_classes, Y_pred_classes))"
      ],
      "metadata": {
        "id": "5R8BkSkANbkL"
      },
      "execution_count": null,
      "outputs": []
    }
  ],
  "metadata": {
    "colab": {
      "collapsed_sections": [],
      "name": "Experiment_3_FINAL_EfficientNetB1_8vs8_tensorboard.ipynb",
      "provenance": []
    },
    "kernelspec": {
      "display_name": "Python 3",
      "language": "python",
      "name": "python3"
    },
    "language_info": {
      "codemirror_mode": {
        "name": "ipython",
        "version": 3
      },
      "file_extension": ".py",
      "mimetype": "text/x-python",
      "name": "python",
      "nbconvert_exporter": "python",
      "pygments_lexer": "ipython3",
      "version": "3.7.0"
    },
    "accelerator": "GPU"
  },
  "nbformat": 4,
  "nbformat_minor": 0
}