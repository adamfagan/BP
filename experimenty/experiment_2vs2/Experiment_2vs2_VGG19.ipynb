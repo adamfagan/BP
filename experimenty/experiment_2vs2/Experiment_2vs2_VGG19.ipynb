{
  "nbformat": 4,
  "nbformat_minor": 0,
  "metadata": {
    "colab": {
      "name": "Experiment_2_FINAL_VGG19_2vs2.ipynb",
      "provenance": [],
      "collapsed_sections": []
    },
    "kernelspec": {
      "name": "python3",
      "display_name": "Python 3"
    },
    "language_info": {
      "name": "python"
    },
    "accelerator": "GPU"
  },
  "cells": [
    {
      "cell_type": "markdown",
      "source": [
        "### Importovanie potrebných knižníc a nástrojov"
      ],
      "metadata": {
        "id": "xgfiqKFVrML2"
      }
    },
    {
      "cell_type": "code",
      "metadata": {
        "id": "s_BohIIzTe2S"
      },
      "source": [
        "import matplotlib.pyplot as plt\n",
        "import pathlib\n",
        "import numpy as np\n",
        "\n",
        "import tensorflow as tf\n",
        "from tensorflow.keras.layers import Dense, Flatten\n",
        "from tensorflow.keras.models import Model\n",
        "from tensorflow.keras.applications.vgg19 import VGG19\n",
        "from tensorflow.keras.callbacks import EarlyStopping\n",
        "from tensorflow.keras.preprocessing.image import ImageDataGenerator\n",
        "\n",
        "from sklearn.metrics import confusion_matrix, ConfusionMatrixDisplay, classification_report"
      ],
      "execution_count": null,
      "outputs": []
    },
    {
      "cell_type": "markdown",
      "source": [
        "### Pripojenie Google disku pre načítanie datasetov"
      ],
      "metadata": {
        "id": "nulAWYjKrZol"
      }
    },
    {
      "cell_type": "code",
      "source": [
        "from google.colab import drive\n",
        "drive.mount('/content/drive')"
      ],
      "metadata": {
        "colab": {
          "base_uri": "https://localhost:8080/"
        },
        "id": "YY-tUMuW4WV6",
        "outputId": "90f20550-601b-4a22-cd32-67a5a38bc680"
      },
      "execution_count": null,
      "outputs": [
        {
          "output_type": "stream",
          "name": "stdout",
          "text": [
            "Mounted at /content/drive\n"
          ]
        }
      ]
    },
    {
      "cell_type": "code",
      "metadata": {
        "id": "xDCHnbQwTmzk"
      },
      "source": [
        "TRAIN_DATA_DIR_GDRIVE = \"/content/drive/MyDrive/Colab Notebooks/train_2vs2\"\n",
        "VALIDATION_DATA_DIR_GDRIVE = \"/content/drive/MyDrive/Colab Notebooks/validation_2vs2\"\n",
        "TEST_DATA_DIR_GDRIVE = \"/content/drive/MyDrive/Colab Notebooks/test_2vs2\""
      ],
      "execution_count": null,
      "outputs": []
    },
    {
      "cell_type": "code",
      "source": [
        "!cp -r \"$TRAIN_DATA_DIR_GDRIVE\" .\n",
        "!cp -r \"$VALIDATION_DATA_DIR_GDRIVE\" .\n",
        "!cp -r \"$TEST_DATA_DIR_GDRIVE\" ."
      ],
      "metadata": {
        "id": "ERPiBXPe3uYP"
      },
      "execution_count": null,
      "outputs": []
    },
    {
      "cell_type": "code",
      "source": [
        "TRAIN_DATA_DIR = './train_2vs2'\n",
        "VALIDATION_DATA_DIR = './validation_2vs2'\n",
        "TEST_DATA_DIR = './test_2vs2'\n",
        "\n",
        "TRAIN_DATASET_PATH = pathlib.Path(TRAIN_DATA_DIR)\n",
        "VALIDATION_DATASET_PATH = pathlib.Path(VALIDATION_DATA_DIR)\n",
        "TEST_DATASET_PATH = pathlib.Path(TEST_DATA_DIR)"
      ],
      "metadata": {
        "id": "SVhrGDPC3vCW"
      },
      "execution_count": null,
      "outputs": []
    },
    {
      "cell_type": "code",
      "source": [
        "BATCH_SIZE = 32\n",
        "IMG_SIZE=(224, 224)\n",
        "\n",
        "train_ds = tf.keras.utils.image_dataset_from_directory(\n",
        "  TRAIN_DATA_DIR,\n",
        "  seed=123,\n",
        "  image_size=IMG_SIZE,\n",
        "  batch_size=BATCH_SIZE)\n",
        "\n",
        "val_ds = tf.keras.utils.image_dataset_from_directory(\n",
        "  VALIDATION_DATA_DIR,\n",
        "  seed=123,\n",
        "  image_size=IMG_SIZE,\n",
        "  batch_size=BATCH_SIZE)\n",
        "\n",
        "test_ds = tf.keras.utils.image_dataset_from_directory(\n",
        "  VALIDATION_DATA_DIR,\n",
        "  seed=123,\n",
        "  image_size=IMG_SIZE,\n",
        "  batch_size=BATCH_SIZE)"
      ],
      "metadata": {
        "colab": {
          "base_uri": "https://localhost:8080/"
        },
        "id": "UUdAN99X4Arw",
        "outputId": "caca6639-c086-4f6e-e599-8b57a9a2788e"
      },
      "execution_count": null,
      "outputs": [
        {
          "output_type": "stream",
          "name": "stdout",
          "text": [
            "Found 3365 files belonging to 4 classes.\n",
            "Found 84 files belonging to 4 classes.\n",
            "Found 84 files belonging to 4 classes.\n"
          ]
        }
      ]
    },
    {
      "cell_type": "code",
      "metadata": {
        "colab": {
          "base_uri": "https://localhost:8080/"
        },
        "id": "TI9MEa9ETm7y",
        "outputId": "eb3cae6a-82ce-4f5d-bcc8-03b66e3c21a1"
      },
      "source": [
        "class_names = train_ds.class_names\n",
        "print(class_names)"
      ],
      "execution_count": null,
      "outputs": [
        {
          "output_type": "stream",
          "name": "stdout",
          "text": [
            "['E_Boletus_reticulatus', 'E_Cantharellus_cibarius', 'P_Amanita_muscaria', 'P_Gyromitra_esculenta']\n"
          ]
        }
      ]
    },
    {
      "cell_type": "code",
      "source": [
        "plt.figure(figsize=(10, 10))\n",
        "for images, labels in train_ds.take(1):\n",
        "  for i in range(9):\n",
        "    ax = plt.subplot(3, 3, i + 1)\n",
        "    plt.imshow(images[i].numpy().astype(\"uint8\"))\n",
        "    plt.title(class_names[labels[i]])\n",
        "    plt.axis(\"off\")"
      ],
      "metadata": {
        "id": "mQF_p79TJ5b1"
      },
      "execution_count": null,
      "outputs": []
    },
    {
      "cell_type": "code",
      "source": [
        "plt.figure(figsize=(10, 10))\n",
        "for images, labels in val_ds.take(1):\n",
        "  for i in range(9):\n",
        "    ax = plt.subplot(3, 3, i + 1)\n",
        "    plt.imshow(images[i].numpy().astype(\"uint8\"))\n",
        "    plt.title(class_names[labels[i]])\n",
        "    plt.axis(\"off\")"
      ],
      "metadata": {
        "id": "Yj3eCF8bJ_2-"
      },
      "execution_count": null,
      "outputs": []
    },
    {
      "cell_type": "code",
      "source": [
        "vgg = VGG19(input_shape=(224, 224, 3), weights='imagenet', include_top=False, classifier_activation=\"softmax\") "
      ],
      "metadata": {
        "id": "t6kuGJCBU3X0"
      },
      "execution_count": null,
      "outputs": []
    },
    {
      "cell_type": "code",
      "source": [
        "for layer in vgg.layers:\n",
        "    layer.trainable = False"
      ],
      "metadata": {
        "id": "aG2OSHSyU_1j"
      },
      "execution_count": null,
      "outputs": []
    },
    {
      "cell_type": "code",
      "source": [
        "x = Flatten()(vgg.output)"
      ],
      "metadata": {
        "id": "skc5VoHgU_yj"
      },
      "execution_count": null,
      "outputs": []
    },
    {
      "cell_type": "code",
      "source": [
        "prediction = Dense(4, activation='softmax')(x)\n",
        "\n",
        "model = Model(inputs=vgg.input, outputs=prediction)"
      ],
      "metadata": {
        "id": "SfzyGouOVB67"
      },
      "execution_count": null,
      "outputs": []
    },
    {
      "cell_type": "code",
      "source": [
        "model.compile(\n",
        "  loss='sparse_categorical_crossentropy',\n",
        "  optimizer=tf.keras.optimizers.Adam(0.0003),\n",
        "  metrics=['accuracy']\n",
        ")"
      ],
      "metadata": {
        "id": "xB8ZGN9AVGl8"
      },
      "execution_count": null,
      "outputs": []
    },
    {
      "cell_type": "code",
      "source": [
        "model.summary()"
      ],
      "metadata": {
        "id": "hmtC-dKa40Of",
        "colab": {
          "base_uri": "https://localhost:8080/"
        },
        "outputId": "03c0449b-a302-4d92-c9b7-edd86e54c204"
      },
      "execution_count": null,
      "outputs": [
        {
          "output_type": "stream",
          "name": "stdout",
          "text": [
            "Model: \"model\"\n",
            "_________________________________________________________________\n",
            " Layer (type)                Output Shape              Param #   \n",
            "=================================================================\n",
            " input_1 (InputLayer)        [(None, 224, 224, 3)]     0         \n",
            "                                                                 \n",
            " block1_conv1 (Conv2D)       (None, 224, 224, 64)      1792      \n",
            "                                                                 \n",
            " block1_conv2 (Conv2D)       (None, 224, 224, 64)      36928     \n",
            "                                                                 \n",
            " block1_pool (MaxPooling2D)  (None, 112, 112, 64)      0         \n",
            "                                                                 \n",
            " block2_conv1 (Conv2D)       (None, 112, 112, 128)     73856     \n",
            "                                                                 \n",
            " block2_conv2 (Conv2D)       (None, 112, 112, 128)     147584    \n",
            "                                                                 \n",
            " block2_pool (MaxPooling2D)  (None, 56, 56, 128)       0         \n",
            "                                                                 \n",
            " block3_conv1 (Conv2D)       (None, 56, 56, 256)       295168    \n",
            "                                                                 \n",
            " block3_conv2 (Conv2D)       (None, 56, 56, 256)       590080    \n",
            "                                                                 \n",
            " block3_conv3 (Conv2D)       (None, 56, 56, 256)       590080    \n",
            "                                                                 \n",
            " block3_conv4 (Conv2D)       (None, 56, 56, 256)       590080    \n",
            "                                                                 \n",
            " block3_pool (MaxPooling2D)  (None, 28, 28, 256)       0         \n",
            "                                                                 \n",
            " block4_conv1 (Conv2D)       (None, 28, 28, 512)       1180160   \n",
            "                                                                 \n",
            " block4_conv2 (Conv2D)       (None, 28, 28, 512)       2359808   \n",
            "                                                                 \n",
            " block4_conv3 (Conv2D)       (None, 28, 28, 512)       2359808   \n",
            "                                                                 \n",
            " block4_conv4 (Conv2D)       (None, 28, 28, 512)       2359808   \n",
            "                                                                 \n",
            " block4_pool (MaxPooling2D)  (None, 14, 14, 512)       0         \n",
            "                                                                 \n",
            " block5_conv1 (Conv2D)       (None, 14, 14, 512)       2359808   \n",
            "                                                                 \n",
            " block5_conv2 (Conv2D)       (None, 14, 14, 512)       2359808   \n",
            "                                                                 \n",
            " block5_conv3 (Conv2D)       (None, 14, 14, 512)       2359808   \n",
            "                                                                 \n",
            " block5_conv4 (Conv2D)       (None, 14, 14, 512)       2359808   \n",
            "                                                                 \n",
            " block5_pool (MaxPooling2D)  (None, 7, 7, 512)         0         \n",
            "                                                                 \n",
            " flatten (Flatten)           (None, 25088)             0         \n",
            "                                                                 \n",
            " dense (Dense)               (None, 4)                 100356    \n",
            "                                                                 \n",
            "=================================================================\n",
            "Total params: 20,124,740\n",
            "Trainable params: 100,356\n",
            "Non-trainable params: 20,024,384\n",
            "_________________________________________________________________\n"
          ]
        }
      ]
    },
    {
      "cell_type": "code",
      "source": [
        "early_stop=EarlyStopping(monitor='val_loss',mode='min',verbose=1,patience=5)"
      ],
      "metadata": {
        "id": "JOFDE5D4VJ4a"
      },
      "execution_count": null,
      "outputs": []
    },
    {
      "cell_type": "code",
      "source": [
        "history = model.fit(\n",
        "  train_ds,\n",
        "  validation_data=val_ds,\n",
        "  epochs=10,\n",
        "  callbacks=[early_stop],\n",
        "  batch_size=BATCH_SIZE,\n",
        "  shuffle=True)"
      ],
      "metadata": {
        "colab": {
          "base_uri": "https://localhost:8080/"
        },
        "id": "UVLiKrDAVMFc",
        "outputId": "02d8326d-1eeb-497e-c483-21c7baba50bb"
      },
      "execution_count": null,
      "outputs": [
        {
          "output_type": "stream",
          "name": "stdout",
          "text": [
            "Epoch 1/10\n",
            "106/106 [==============================] - 43s 381ms/step - loss: 1.1732 - accuracy: 0.9067 - val_loss: 0.2441 - val_accuracy: 0.9881\n",
            "Epoch 2/10\n",
            "106/106 [==============================] - 42s 377ms/step - loss: 0.0475 - accuracy: 0.9938 - val_loss: 0.4377 - val_accuracy: 0.9524\n",
            "Epoch 3/10\n",
            "106/106 [==============================] - 42s 375ms/step - loss: 0.0363 - accuracy: 0.9949 - val_loss: 0.4314 - val_accuracy: 0.9762\n",
            "Epoch 4/10\n",
            "106/106 [==============================] - 42s 376ms/step - loss: 0.0125 - accuracy: 0.9979 - val_loss: 0.2838 - val_accuracy: 0.9762\n",
            "Epoch 5/10\n",
            "106/106 [==============================] - 42s 375ms/step - loss: 0.0066 - accuracy: 0.9988 - val_loss: 0.2738 - val_accuracy: 0.9762\n",
            "Epoch 6/10\n",
            "106/106 [==============================] - 42s 376ms/step - loss: 0.0223 - accuracy: 0.9973 - val_loss: 0.2316 - val_accuracy: 0.9762\n",
            "Epoch 7/10\n",
            "106/106 [==============================] - 42s 378ms/step - loss: 0.0329 - accuracy: 0.9947 - val_loss: 0.1294 - val_accuracy: 0.9881\n",
            "Epoch 8/10\n",
            "106/106 [==============================] - 42s 376ms/step - loss: 0.0248 - accuracy: 0.9952 - val_loss: 0.0717 - val_accuracy: 0.9881\n",
            "Epoch 9/10\n",
            "106/106 [==============================] - 42s 376ms/step - loss: 0.0251 - accuracy: 0.9970 - val_loss: 0.1475 - val_accuracy: 0.9881\n",
            "Epoch 10/10\n",
            "106/106 [==============================] - 42s 376ms/step - loss: 0.0041 - accuracy: 0.9985 - val_loss: 0.1686 - val_accuracy: 0.9881\n"
          ]
        }
      ]
    },
    {
      "cell_type": "code",
      "source": [
        ""
      ],
      "metadata": {
        "id": "XpyRXNx5VMCa"
      },
      "execution_count": null,
      "outputs": []
    },
    {
      "cell_type": "code",
      "source": [
        "plt.plot(history.history['accuracy'], label='train acc')\n",
        "plt.plot(history.history['val_accuracy'], label='val acc')\n",
        "plt.xlabel('Epoch')\n",
        "plt.ylabel('Accuracy')\n",
        "plt.legend()\n",
        "plt.show()"
      ],
      "metadata": {
        "colab": {
          "base_uri": "https://localhost:8080/",
          "height": 279
        },
        "id": "_jRNON1qssyh",
        "outputId": "6810d466-0774-4bb6-e203-fe25ffff9661"
      },
      "execution_count": null,
      "outputs": [
        {
          "output_type": "display_data",
          "data": {
            "text/plain": [
              "<Figure size 432x288 with 1 Axes>"
            ],
            "image/png": "[encoded data removed]"
          },
          "metadata": {
            "needs_background": "light"
          }
        }
      ]
    },
    {
      "cell_type": "code",
      "source": [
        "plt.plot(history.history['loss'], label='train loss')\n",
        "plt.plot(history.history['val_loss'], label='val loss')\n",
        "plt.xlabel('Epoch')\n",
        "plt.ylabel('Loss')\n",
        "plt.legend()\n",
        "plt.show()"
      ],
      "metadata": {
        "colab": {
          "base_uri": "https://localhost:8080/",
          "height": 279
        },
        "id": "1DYvmTsQssv5",
        "outputId": "4529a2d6-1584-4171-c3e3-16b0f30370ea"
      },
      "execution_count": null,
      "outputs": [
        {
          "output_type": "display_data",
          "data": {
            "text/plain": [
              "<Figure size 432x288 with 1 Axes>"
            ],
            "image/png": "[encoded data removed]"
          },
          "metadata": {
            "needs_background": "light"
          }
        }
      ]
    },
    {
      "cell_type": "markdown",
      "source": [
        "### **Testovanie modelu**"
      ],
      "metadata": {
        "id": "3GO9IsRbwoyR"
      }
    },
    {
      "cell_type": "code",
      "source": [
        "test_loss, test_accuracy = model.evaluate(test_ds,batch_size=BATCH_SIZE)\n",
        "print(\"Testovacia loss {0:.2f}, Testovacia accuracy {1:.2f}%\".format(test_loss, test_accuracy * 100))"
      ],
      "metadata": {
        "id": "Cr_fPuxFvtLT",
        "colab": {
          "base_uri": "https://localhost:8080/"
        },
        "outputId": "a46f7c5e-abed-4152-b838-3b3d0be2a4da"
      },
      "execution_count": null,
      "outputs": [
        {
          "output_type": "stream",
          "name": "stdout",
          "text": [
            "3/3 [==============================] - 2s 329ms/step - loss: 0.1686 - accuracy: 0.9881\n",
            "Testovacia loss 0.17, Testovacia accuracy 98.81%\n"
          ]
        }
      ]
    },
    {
      "cell_type": "code",
      "source": [
        "test_datagen = ImageDataGenerator()\n",
        "\n",
        "test_dataset = test_datagen.flow_from_directory(\n",
        "      TEST_DATASET_PATH, \n",
        "      target_size=IMG_SIZE, \n",
        "      class_mode='categorical', \n",
        "      batch_size=BATCH_SIZE, \n",
        "      shuffle=False\n",
        ")"
      ],
      "metadata": {
        "colab": {
          "base_uri": "https://localhost:8080/"
        },
        "id": "nXOtA48uvtGw",
        "outputId": "cb94338c-df05-4afd-93a0-56a82cd11cd7"
      },
      "execution_count": null,
      "outputs": [
        {
          "output_type": "stream",
          "name": "stdout",
          "text": [
            "Found 84 images belonging to 4 classes.\n"
          ]
        }
      ]
    },
    {
      "cell_type": "code",
      "source": [
        "Y_true_classes = test_dataset.classes\n",
        "Y_predict = model.predict(test_dataset)\n",
        "\n",
        "Y_pred_classes = np.argmax(Y_predict, axis=1)\n",
        "\n",
        "CONFUSION_MATRIX = confusion_matrix(Y_true_classes, Y_pred_classes)\n",
        "disp = ConfusionMatrixDisplay(confusion_matrix=CONFUSION_MATRIX)\n",
        "\n",
        "disp = disp.plot()"
      ],
      "metadata": {
        "colab": {
          "base_uri": "https://localhost:8080/",
          "height": 279
        },
        "id": "3un0-mJ5dMf8",
        "outputId": "34d00288-4c0c-450d-b9a2-41838d222042"
      },
      "execution_count": null,
      "outputs": [
        {
          "output_type": "display_data",
          "data": {
            "text/plain": [
              "<Figure size 432x288 with 2 Axes>"
            ],
            "image/png": "[encoded data removed]"
          },
          "metadata": {
            "needs_background": "light"
          }
        }
      ]
    },
    {
      "cell_type": "code",
      "source": [
        "print(classification_report(Y_true_classes, Y_pred_classes))"
      ],
      "metadata": {
        "colab": {
          "base_uri": "https://localhost:8080/"
        },
        "id": "_g2U1sGLMxV7",
        "outputId": "cebf83d3-3a65-42bd-ba59-87bd58de06a7"
      },
      "execution_count": null,
      "outputs": [
        {
          "output_type": "stream",
          "name": "stdout",
          "text": [
            "              precision    recall  f1-score   support\n",
            "\n",
            "           0       0.88      1.00      0.94        15\n",
            "           1       1.00      1.00      1.00        13\n",
            "           2       1.00      0.95      0.98        43\n",
            "           3       0.85      0.85      0.85        13\n",
            "\n",
            "    accuracy                           0.95        84\n",
            "   macro avg       0.93      0.95      0.94        84\n",
            "weighted avg       0.96      0.95      0.95        84\n",
            "\n"
          ]
        }
      ]
    }
  ]
}