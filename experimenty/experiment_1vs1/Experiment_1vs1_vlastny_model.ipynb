{
  "nbformat": 4,
  "nbformat_minor": 0,
  "metadata": {
    "colab": {
      "name": "Experiment_1_FINAL_vlastny_model_1vs1.ipynb",
      "provenance": [],
      "collapsed_sections": []
    },
    "kernelspec": {
      "name": "python3",
      "display_name": "Python 3"
    },
    "language_info": {
      "name": "python"
    },
    "accelerator": "GPU"
  },
  "cells": [
    {
      "cell_type": "code",
      "metadata": {
        "id": "s_BohIIzTe2S"
      },
      "source": [
        "import matplotlib.pyplot as plt\n",
        "import pathlib\n",
        "import numpy as np\n",
        "\n",
        "import tensorflow as tf\n",
        "from tensorflow.keras.models import Sequential\n",
        "from tensorflow.keras.layers import Dense, Dropout, Activation, Flatten, Conv2D, MaxPooling2D, BatchNormalization, MaxPool2D\n",
        "from tensorflow.keras.preprocessing.image import ImageDataGenerator\n",
        "\n",
        "from sklearn.metrics import confusion_matrix, roc_auc_score, ConfusionMatrixDisplay, classification_report"
      ],
      "execution_count": null,
      "outputs": []
    },
    {
      "cell_type": "code",
      "source": [
        "from google.colab import drive\n",
        "drive.mount('/content/drive')"
      ],
      "metadata": {
        "colab": {
          "base_uri": "https://localhost:8080/"
        },
        "id": "aoExbIHTzu9I",
        "outputId": "8ab1dd6c-8718-4c02-e41c-dcee6d5ada1c"
      },
      "execution_count": null,
      "outputs": [
        {
          "output_type": "stream",
          "name": "stdout",
          "text": [
            "Mounted at /content/drive\n"
          ]
        }
      ]
    },
    {
      "cell_type": "code",
      "metadata": {
        "id": "imrf5q2GTmqC"
      },
      "source": [
        "TRAIN_DATA_DIR_GDRIVE = \"/content/drive/MyDrive/Colab Notebooks/train_1vs1\"\n",
        "VALIDATION_DATA_DIR_GDRIVE = \"/content/drive/MyDrive/Colab Notebooks/validation_1vs1\"\n",
        "TEST_DATA_DIR_GDRIVE = \"/content/drive/MyDrive/Colab Notebooks/test_1vs1\""
      ],
      "execution_count": null,
      "outputs": []
    },
    {
      "cell_type": "code",
      "source": [
        "!cp -r \"$TRAIN_DATA_DIR_GDRIVE\" .\n",
        "!cp -r \"$VALIDATION_DATA_DIR_GDRIVE\" .\n",
        "!cp -r \"$TEST_DATA_DIR_GDRIVE\" ."
      ],
      "metadata": {
        "id": "gAHpXIbkWqT3"
      },
      "execution_count": null,
      "outputs": []
    },
    {
      "cell_type": "code",
      "source": [
        "TRAIN_DATA_DIR = './train_1vs1'\n",
        "VALIDATION_DATA_DIR = './validation_1vs1'\n",
        "TEST_DATA_DIR = './test_1vs1'\n",
        "\n",
        "TRAIN_DATASET_PATH = pathlib.Path(TRAIN_DATA_DIR)\n",
        "VALIDATION_DATASET_PATH = pathlib.Path(VALIDATION_DATA_DIR)\n",
        "TEST_DATASET_PATH = pathlib.Path(TEST_DATA_DIR)"
      ],
      "metadata": {
        "id": "aTekESUCWtY8"
      },
      "execution_count": null,
      "outputs": []
    },
    {
      "cell_type": "code",
      "metadata": {
        "colab": {
          "base_uri": "https://localhost:8080/"
        },
        "id": "LZR0soAqTm2b",
        "outputId": "4627fbd4-c372-4213-9793-820032eb3637"
      },
      "source": [
        "BATCH_SIZE = 32\n",
        "IMG_SIZE=(180, 180)\n",
        "\n",
        "train_ds = tf.keras.utils.image_dataset_from_directory(\n",
        "  TRAIN_DATA_DIR,\n",
        "  seed=123,\n",
        "  image_size=IMG_SIZE,\n",
        "  batch_size=BATCH_SIZE)\n",
        "\n",
        "val_ds = tf.keras.utils.image_dataset_from_directory(\n",
        "  VALIDATION_DATA_DIR,\n",
        "  seed=123,\n",
        "  image_size=IMG_SIZE,\n",
        "  batch_size=BATCH_SIZE)\n",
        "\n",
        "test_ds = tf.keras.utils.image_dataset_from_directory(\n",
        "  VALIDATION_DATA_DIR,\n",
        "  seed=123,\n",
        "  image_size=IMG_SIZE,\n",
        "  batch_size=BATCH_SIZE)"
      ],
      "execution_count": null,
      "outputs": [
        {
          "output_type": "stream",
          "name": "stdout",
          "text": [
            "Found 2355 files belonging to 2 classes.\n",
            "Found 60 files belonging to 2 classes.\n",
            "Found 60 files belonging to 2 classes.\n"
          ]
        }
      ]
    },
    {
      "cell_type": "code",
      "metadata": {
        "colab": {
          "base_uri": "https://localhost:8080/"
        },
        "id": "TI9MEa9ETm7y",
        "outputId": "c4b60a6a-d3bb-4f8b-f768-3dbafb7b8278"
      },
      "source": [
        "class_names = train_ds.class_names\n",
        "print(class_names)"
      ],
      "execution_count": null,
      "outputs": [
        {
          "output_type": "stream",
          "name": "stdout",
          "text": [
            "['E_Boletus_reticulatus', 'P_Amanita_muscaria']\n"
          ]
        }
      ]
    },
    {
      "cell_type": "code",
      "source": [
        "plt.figure(figsize=(10, 10))\n",
        "for images, labels in train_ds.take(1):\n",
        "  for i in range(9):\n",
        "    ax = plt.subplot(3, 3, i + 1)\n",
        "    plt.imshow(images[i].numpy().astype(\"uint8\"))\n",
        "    plt.title(class_names[labels[i]])\n",
        "    plt.axis(\"off\")"
      ],
      "metadata": {
        "id": "IPjJahzr5vMw"
      },
      "execution_count": null,
      "outputs": []
    },
    {
      "cell_type": "code",
      "metadata": {
        "id": "lVtkqcsjTm-k"
      },
      "source": [
        "AUTOTUNE = tf.data.AUTOTUNE\n",
        "\n",
        "train_ds = train_ds.cache().shuffle(1000).prefetch(buffer_size=AUTOTUNE)\n",
        "val_ds = val_ds.cache().prefetch(buffer_size=AUTOTUNE)"
      ],
      "execution_count": null,
      "outputs": []
    },
    {
      "cell_type": "code",
      "metadata": {
        "id": "1oVV7Q06TnA7"
      },
      "source": [
        "model = Sequential()\n",
        "\n",
        "model.add(Conv2D(128, (3,3)))\n",
        "model.add(Activation('relu'))\n",
        "model.add(MaxPooling2D(pool_size=(2,2)))\n",
        "model.add(BatchNormalization())\n",
        "model.add(Dropout(0.2))\n",
        "\n",
        "model.add(Conv2D(256, (3,3)))\n",
        "model.add(Activation('relu'))\n",
        "model.add(MaxPooling2D(pool_size=(2,2)))\n",
        "model.add(BatchNormalization())\n",
        "model.add(Dropout(0.2))\n",
        "\n",
        "model.add(Conv2D(256, (3,3)))\n",
        "model.add(Activation('relu'))\n",
        "model.add(MaxPooling2D(pool_size=(2,2)))\n",
        "model.add(BatchNormalization())\n",
        "model.add(Dropout(0.2))\n",
        "\n",
        "model.add(Flatten())\n",
        "\n",
        "model.add(Dense(256))\n",
        "model.add(Activation('relu'))\n",
        "\n",
        "model.add(Dense(2))\n",
        "model.add(Activation('softmax'))"
      ],
      "execution_count": null,
      "outputs": []
    },
    {
      "cell_type": "code",
      "metadata": {
        "id": "rgyJBSHdmOBK"
      },
      "source": [
        "model.compile(loss='sparse_categorical_crossentropy',\n",
        "              optimizer=tf.keras.optimizers.Adam(0.0009),\n",
        "              metrics=['accuracy'])"
      ],
      "execution_count": null,
      "outputs": []
    },
    {
      "cell_type": "code",
      "source": [
        "history = model.fit(\n",
        "    train_ds, \n",
        "    validation_data=val_ds,\n",
        "    epochs=5,\n",
        "    batch_size=BATCH_SIZE,\n",
        "    shuffle=True)"
      ],
      "metadata": {
        "colab": {
          "base_uri": "https://localhost:8080/"
        },
        "id": "IuUs5vyT6B3w",
        "outputId": "439e1b01-bc8e-4f69-e0ca-a760ee36895a"
      },
      "execution_count": null,
      "outputs": [
        {
          "output_type": "stream",
          "name": "stdout",
          "text": [
            "Epoch 1/5\n",
            "74/74 [==============================] - 49s 337ms/step - loss: 2.5846 - accuracy: 0.8624 - val_loss: 39.8210 - val_accuracy: 0.8667\n",
            "Epoch 2/5\n",
            "74/74 [==============================] - 25s 333ms/step - loss: 0.1581 - accuracy: 0.9486 - val_loss: 2.1895 - val_accuracy: 0.9333\n",
            "Epoch 3/5\n",
            "74/74 [==============================] - 25s 332ms/step - loss: 0.0793 - accuracy: 0.9741 - val_loss: 0.1300 - val_accuracy: 0.9500\n",
            "Epoch 4/5\n",
            "74/74 [==============================] - 25s 332ms/step - loss: 0.0591 - accuracy: 0.9779 - val_loss: 0.1117 - val_accuracy: 0.9667\n",
            "Epoch 5/5\n",
            "74/74 [==============================] - 25s 332ms/step - loss: 0.0204 - accuracy: 0.9928 - val_loss: 0.0884 - val_accuracy: 0.9833\n"
          ]
        }
      ]
    },
    {
      "cell_type": "code",
      "source": [
        "model.summary()"
      ],
      "metadata": {
        "colab": {
          "base_uri": "https://localhost:8080/"
        },
        "id": "aKy8E23JuzDy",
        "outputId": "d851383f-5178-498e-808a-0c763ce43546"
      },
      "execution_count": null,
      "outputs": [
        {
          "output_type": "stream",
          "name": "stdout",
          "text": [
            "Model: \"sequential_3\"\n",
            "_________________________________________________________________\n",
            " Layer (type)                Output Shape              Param #   \n",
            "=================================================================\n",
            " conv2d_9 (Conv2D)           (None, None, None, 128)   3584      \n",
            "                                                                 \n",
            " activation_15 (Activation)  (None, None, None, 128)   0         \n",
            "                                                                 \n",
            " max_pooling2d_9 (MaxPooling  (None, None, None, 128)  0         \n",
            " 2D)                                                             \n",
            "                                                                 \n",
            " batch_normalization_9 (Batc  (None, None, None, 128)  512       \n",
            " hNormalization)                                                 \n",
            "                                                                 \n",
            " dropout_9 (Dropout)         (None, None, None, 128)   0         \n",
            "                                                                 \n",
            " conv2d_10 (Conv2D)          (None, None, None, 256)   295168    \n",
            "                                                                 \n",
            " activation_16 (Activation)  (None, None, None, 256)   0         \n",
            "                                                                 \n",
            " max_pooling2d_10 (MaxPoolin  (None, None, None, 256)  0         \n",
            " g2D)                                                            \n",
            "                                                                 \n",
            " batch_normalization_10 (Bat  (None, None, None, 256)  1024      \n",
            " chNormalization)                                                \n",
            "                                                                 \n",
            " dropout_10 (Dropout)        (None, None, None, 256)   0         \n",
            "                                                                 \n",
            " conv2d_11 (Conv2D)          (None, None, None, 256)   590080    \n",
            "                                                                 \n",
            " activation_17 (Activation)  (None, None, None, 256)   0         \n",
            "                                                                 \n",
            " max_pooling2d_11 (MaxPoolin  (None, None, None, 256)  0         \n",
            " g2D)                                                            \n",
            "                                                                 \n",
            " batch_normalization_11 (Bat  (None, None, None, 256)  1024      \n",
            " chNormalization)                                                \n",
            "                                                                 \n",
            " dropout_11 (Dropout)        (None, None, None, 256)   0         \n",
            "                                                                 \n",
            " flatten_3 (Flatten)         (None, None)              0         \n",
            "                                                                 \n",
            " dense_6 (Dense)             (None, 256)               26214656  \n",
            "                                                                 \n",
            " activation_18 (Activation)  (None, 256)               0         \n",
            "                                                                 \n",
            " dense_7 (Dense)             (None, 2)                 514       \n",
            "                                                                 \n",
            " activation_19 (Activation)  (None, 2)                 0         \n",
            "                                                                 \n",
            "=================================================================\n",
            "Total params: 27,106,562\n",
            "Trainable params: 27,105,282\n",
            "Non-trainable params: 1,280\n",
            "_________________________________________________________________\n"
          ]
        }
      ]
    },
    {
      "cell_type": "code",
      "source": [
        "plt.plot(history.history['accuracy'], label='train acc')\n",
        "plt.plot(history.history['val_accuracy'], label='val acc')\n",
        "plt.xlabel('Epoch')\n",
        "plt.ylabel('Accuracy')\n",
        "plt.legend()\n",
        "plt.show()"
      ],
      "metadata": {
        "colab": {
          "base_uri": "https://localhost:8080/",
          "height": 279
        },
        "id": "ESjf84tM6bxc",
        "outputId": "e3a8774d-09e8-41a4-eab5-624cc72dff4a"
      },
      "execution_count": null,
      "outputs": [
        {
          "output_type": "display_data",
          "data": {
            "text/plain": [
              "<Figure size 432x288 with 1 Axes>"
            ],
            "image/png": "[encoded data removed]"
          },
          "metadata": {
            "needs_background": "light"
          }
        }
      ]
    },
    {
      "cell_type": "code",
      "source": [
        "plt.plot(history.history['loss'], label='train loss')\n",
        "plt.plot(history.history['val_loss'], label='val loss')\n",
        "plt.xlabel('Epoch')\n",
        "plt.ylabel('Loss')\n",
        "plt.legend()\n",
        "plt.show()"
      ],
      "metadata": {
        "colab": {
          "base_uri": "https://localhost:8080/",
          "height": 279
        },
        "id": "_1bu9i2F6bsq",
        "outputId": "c9bfdbd8-9520-4244-be2d-fc2641f6fec0"
      },
      "execution_count": null,
      "outputs": [
        {
          "output_type": "display_data",
          "data": {
            "text/plain": [
              "<Figure size 432x288 with 1 Axes>"
            ],
            "image/png": "[encoded data removed]"
          },
          "metadata": {
            "needs_background": "light"
          }
        }
      ]
    },
    {
      "cell_type": "markdown",
      "source": [
        "# Evaluácia vytrénovaného modelu"
      ],
      "metadata": {
        "id": "wTdz8QqaZPpS"
      }
    },
    {
      "cell_type": "code",
      "source": [
        "test_loss, test_accuracy = model.evaluate(test_ds,batch_size=BATCH_SIZE)\n",
        "print(\"Testovacia loss {0:.2f}, Testovacia accuracy {1:.2f}%\".format(test_loss, test_accuracy * 100))"
      ],
      "metadata": {
        "colab": {
          "base_uri": "https://localhost:8080/"
        },
        "id": "UIZeGGXjg-bv",
        "outputId": "ddbdd0f8-75dd-4589-c258-1676ff36c63a"
      },
      "execution_count": null,
      "outputs": [
        {
          "output_type": "stream",
          "name": "stdout",
          "text": [
            "2/2 [==============================] - 0s 121ms/step - loss: 0.0884 - accuracy: 0.9833\n",
            "Testovacia loss 0.09, Testovacia accuracy 98.33%\n"
          ]
        }
      ]
    },
    {
      "cell_type": "code",
      "source": [
        "test_datagen = ImageDataGenerator()\n",
        "\n",
        "test_dataset = test_datagen.flow_from_directory(\n",
        "      TEST_DATASET_PATH, \n",
        "      target_size=IMG_SIZE, \n",
        "      class_mode='categorical', \n",
        "      batch_size=BATCH_SIZE, \n",
        "      shuffle=False\n",
        ")"
      ],
      "metadata": {
        "colab": {
          "base_uri": "https://localhost:8080/"
        },
        "id": "qHYAF_AAbEnY",
        "outputId": "c055260d-d0d2-47dc-a9c0-89bda096f958"
      },
      "execution_count": null,
      "outputs": [
        {
          "output_type": "stream",
          "name": "stdout",
          "text": [
            "Found 60 images belonging to 2 classes.\n"
          ]
        }
      ]
    },
    {
      "cell_type": "code",
      "source": [
        "Y_true_classes = test_dataset.classes\n",
        "Y_predict = model.predict(test_dataset)\n",
        "\n",
        "Y_pred_classes = np.argmax(Y_predict, axis=1)\n",
        "\n",
        "CONFUSION_MATRIX = confusion_matrix(Y_true_classes, Y_pred_classes)\n",
        "disp = ConfusionMatrixDisplay(confusion_matrix=CONFUSION_MATRIX)\n",
        "\n",
        "disp = disp.plot()"
      ],
      "metadata": {
        "colab": {
          "base_uri": "https://localhost:8080/",
          "height": 279
        },
        "id": "5SAFSZRqZjIJ",
        "outputId": "0bd57aa8-8d3d-4b56-afd5-594dc54f5546"
      },
      "execution_count": null,
      "outputs": [
        {
          "output_type": "display_data",
          "data": {
            "text/plain": [
              "<Figure size 432x288 with 2 Axes>"
            ],
            "image/png": "[encoded data removed]"
          },
          "metadata": {
            "needs_background": "light"
          }
        }
      ]
    },
    {
      "cell_type": "code",
      "source": [
        "print(classification_report(Y_true_classes, Y_pred_classes))"
      ],
      "metadata": {
        "colab": {
          "base_uri": "https://localhost:8080/"
        },
        "id": "Xnk1BY7hZmA6",
        "outputId": "decc9586-dd05-47f0-d086-afe9ff148ec5"
      },
      "execution_count": null,
      "outputs": [
        {
          "output_type": "stream",
          "name": "stdout",
          "text": [
            "              precision    recall  f1-score   support\n",
            "\n",
            "           0       0.94      1.00      0.97        16\n",
            "           1       1.00      0.98      0.99        44\n",
            "\n",
            "    accuracy                           0.98        60\n",
            "   macro avg       0.97      0.99      0.98        60\n",
            "weighted avg       0.98      0.98      0.98        60\n",
            "\n"
          ]
        }
      ]
    }
  ]
}